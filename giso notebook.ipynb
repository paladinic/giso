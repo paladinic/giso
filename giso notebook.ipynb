{
 "cells": [
  {
   "cell_type": "markdown",
   "id": "9cb550d6",
   "metadata": {},
   "source": [
    "# `giso` - Basic GIS Interface <img src=\"./giso_logo.png\" style=\"width:120px\" align=\"right\">\n",
    "\n",
    "\n",
    "[![License: MIT](https://img.shields.io/badge/License-MIT-yellow.svg)](https://opensource.org/licenses/MIT)\n",
    "\n",
    "This package provides a set of utilities for interacting with the Mapbox API, allowing users to geocode addresses to latitude and longitude coordinates, and generate isochrones to visualize areas accessible within specific time frames by various modes of transportation.\n"
   ]
  },
  {
   "cell_type": "markdown",
   "id": "34d517d4",
   "metadata": {},
   "source": [
    "\n",
    "## Installation\n",
    "Before you can use the package, ensure you have Python installed on your system. This package requires requests, json, and numpy libraries. If not already installed, you can install them using pip:\n",
    "\n",
    "```\n",
    "pip install requests numpy json\n",
    "```"
   ]
  },
  {
   "cell_type": "code",
   "execution_count": 6,
   "id": "a9aace1f",
   "metadata": {},
   "outputs": [],
   "source": [
    "from giso.utils import set_token,get_coordinates,get_isochrone\n",
    "import folium # for interactive maps\n",
    "import os"
   ]
  },
  {
   "cell_type": "markdown",
   "id": "5ff405cf",
   "metadata": {},
   "source": [
    "## Setting Up Your Mapbox API Token\n",
    "To use the Mapbox API, you need a valid Mapbox API token. You can obtain one by signing up at Mapbox.\n",
    "\n",
    "Once you have your token, use the set_token function to configure it for use with the API calls:\n",
    "```\n",
    "from giso import set_token\n",
    "\n",
    "set_token('YOUR_MAPBOX_API_TOKEN_HERE')\n",
    "```"
   ]
  },
  {
   "cell_type": "code",
   "execution_count": 3,
   "id": "355271ce",
   "metadata": {},
   "outputs": [],
   "source": [
    "TOKEN = os.getenv('MAPBOX_API_KEY')\n",
    "set_token(TOKEN)"
   ]
  },
  {
   "cell_type": "markdown",
   "id": "f1f3f8a0",
   "metadata": {},
   "source": [
    "\n",
    "## Usage"
   ]
  },
  {
   "cell_type": "markdown",
   "id": "710f8ecc",
   "metadata": {},
   "source": [
    "\n",
    "### Geocoding an Address\n",
    "To convert an address to its corresponding latitude and longitude:\n",
    "```\n",
    "from giso import get_coordinates\n",
    "\n",
    "address = \"1600 Pennsylvania Ave NW, Washington, DC 20500\"\n",
    "latitude, longitude = get_coordinates(address)\n",
    "print(f\"Latitude: {latitude}, Longitude: {longitude}\")\n",
    "```"
   ]
  },
  {
   "cell_type": "code",
   "execution_count": 4,
   "id": "73b43f5b",
   "metadata": {},
   "outputs": [
    {
     "name": "stdout",
     "output_type": "stream",
     "text": [
      "Latitude: 51.500978, Longitude: -0.1425615\n"
     ]
    }
   ],
   "source": [
    "address = \"bukingham palace, london, uk\"\n",
    "latitude, longitude = get_coordinates(address)\n",
    "print(f\"Latitude: {latitude}, Longitude: {longitude}\")"
   ]
  },
  {
   "cell_type": "code",
   "execution_count": 28,
   "id": "c92a26b8",
   "metadata": {},
   "outputs": [
    {
     "data": {
      "text/html": [
       "<div style=\"width:100%;\"><div style=\"position:relative;width:100%;height:0;padding-bottom:60%;\"><span style=\"color:#565656\">Make this Notebook Trusted to load map: File -> Trust Notebook</span><iframe srcdoc=\"&lt;!DOCTYPE html&gt;\n",
       "&lt;html&gt;\n",
       "&lt;head&gt;\n",
       "    \n",
       "    &lt;meta http-equiv=&quot;content-type&quot; content=&quot;text/html; charset=UTF-8&quot; /&gt;\n",
       "    \n",
       "        &lt;script&gt;\n",
       "            L_NO_TOUCH = false;\n",
       "            L_DISABLE_3D = false;\n",
       "        &lt;/script&gt;\n",
       "    \n",
       "    &lt;style&gt;html, body {width: 100%;height: 100%;margin: 0;padding: 0;}&lt;/style&gt;\n",
       "    &lt;style&gt;#map {position:absolute;top:0;bottom:0;right:0;left:0;}&lt;/style&gt;\n",
       "    &lt;script src=&quot;https://cdn.jsdelivr.net/npm/leaflet@1.9.3/dist/leaflet.js&quot;&gt;&lt;/script&gt;\n",
       "    &lt;script src=&quot;https://code.jquery.com/jquery-3.7.1.min.js&quot;&gt;&lt;/script&gt;\n",
       "    &lt;script src=&quot;https://cdn.jsdelivr.net/npm/bootstrap@5.2.2/dist/js/bootstrap.bundle.min.js&quot;&gt;&lt;/script&gt;\n",
       "    &lt;script src=&quot;https://cdnjs.cloudflare.com/ajax/libs/Leaflet.awesome-markers/2.0.2/leaflet.awesome-markers.js&quot;&gt;&lt;/script&gt;\n",
       "    &lt;link rel=&quot;stylesheet&quot; href=&quot;https://cdn.jsdelivr.net/npm/leaflet@1.9.3/dist/leaflet.css&quot;/&gt;\n",
       "    &lt;link rel=&quot;stylesheet&quot; href=&quot;https://cdn.jsdelivr.net/npm/bootstrap@5.2.2/dist/css/bootstrap.min.css&quot;/&gt;\n",
       "    &lt;link rel=&quot;stylesheet&quot; href=&quot;https://netdna.bootstrapcdn.com/bootstrap/3.0.0/css/bootstrap.min.css&quot;/&gt;\n",
       "    &lt;link rel=&quot;stylesheet&quot; href=&quot;https://cdn.jsdelivr.net/npm/@fortawesome/fontawesome-free@6.2.0/css/all.min.css&quot;/&gt;\n",
       "    &lt;link rel=&quot;stylesheet&quot; href=&quot;https://cdnjs.cloudflare.com/ajax/libs/Leaflet.awesome-markers/2.0.2/leaflet.awesome-markers.css&quot;/&gt;\n",
       "    &lt;link rel=&quot;stylesheet&quot; href=&quot;https://cdn.jsdelivr.net/gh/python-visualization/folium/folium/templates/leaflet.awesome.rotate.min.css&quot;/&gt;\n",
       "    \n",
       "            &lt;meta name=&quot;viewport&quot; content=&quot;width=device-width,\n",
       "                initial-scale=1.0, maximum-scale=1.0, user-scalable=no&quot; /&gt;\n",
       "            &lt;style&gt;\n",
       "                #map_d402cd5d8cbc12545e922d3b02cda5be {\n",
       "                    position: relative;\n",
       "                    width: 100.0%;\n",
       "                    height: 100.0%;\n",
       "                    left: 0.0%;\n",
       "                    top: 0.0%;\n",
       "                }\n",
       "                .leaflet-container { font-size: 1rem; }\n",
       "            &lt;/style&gt;\n",
       "        \n",
       "&lt;/head&gt;\n",
       "&lt;body&gt;\n",
       "    \n",
       "    \n",
       "            &lt;div class=&quot;folium-map&quot; id=&quot;map_d402cd5d8cbc12545e922d3b02cda5be&quot; &gt;&lt;/div&gt;\n",
       "        \n",
       "&lt;/body&gt;\n",
       "&lt;script&gt;\n",
       "    \n",
       "    \n",
       "            var map_d402cd5d8cbc12545e922d3b02cda5be = L.map(\n",
       "                &quot;map_d402cd5d8cbc12545e922d3b02cda5be&quot;,\n",
       "                {\n",
       "                    center: [51.500978, -0.1425615],\n",
       "                    crs: L.CRS.EPSG3857,\n",
       "                    zoom: 12,\n",
       "                    zoomControl: true,\n",
       "                    preferCanvas: false,\n",
       "                }\n",
       "            );\n",
       "\n",
       "            \n",
       "\n",
       "        \n",
       "    \n",
       "            var tile_layer_dc4c1d6ff59557e2b8f055bc7845c39f = L.tileLayer(\n",
       "                &quot;https://tile.openstreetmap.org/{z}/{x}/{y}.png&quot;,\n",
       "                {&quot;attribution&quot;: &quot;\\u0026copy; \\u003ca href=\\&quot;https://www.openstreetmap.org/copyright\\&quot;\\u003eOpenStreetMap\\u003c/a\\u003e contributors&quot;, &quot;detectRetina&quot;: false, &quot;maxNativeZoom&quot;: 19, &quot;maxZoom&quot;: 19, &quot;minZoom&quot;: 0, &quot;noWrap&quot;: false, &quot;opacity&quot;: 1, &quot;subdomains&quot;: &quot;abc&quot;, &quot;tms&quot;: false}\n",
       "            );\n",
       "        \n",
       "    \n",
       "            tile_layer_dc4c1d6ff59557e2b8f055bc7845c39f.addTo(map_d402cd5d8cbc12545e922d3b02cda5be);\n",
       "        \n",
       "    \n",
       "            var marker_ea27646b060ca98a6178c5d9109ad986 = L.marker(\n",
       "                [51.500978, -0.1425615],\n",
       "                {}\n",
       "            ).addTo(map_d402cd5d8cbc12545e922d3b02cda5be);\n",
       "        \n",
       "    \n",
       "            marker_ea27646b060ca98a6178c5d9109ad986.bindTooltip(\n",
       "                `&lt;div&gt;\n",
       "                     bukingham palace, london, uk\n",
       "                 &lt;/div&gt;`,\n",
       "                {&quot;sticky&quot;: true}\n",
       "            );\n",
       "        \n",
       "&lt;/script&gt;\n",
       "&lt;/html&gt;\" style=\"position:absolute;width:100%;height:100%;left:0;top:0;border:none !important;\" allowfullscreen webkitallowfullscreen mozallowfullscreen></iframe></div></div>"
      ],
      "text/plain": [
       "<folium.folium.Map at 0x1c319a9ee60>"
      ]
     },
     "execution_count": 28,
     "metadata": {},
     "output_type": "execute_result"
    }
   ],
   "source": [
    "coords = (latitude, longitude)\n",
    "\n",
    "mp = folium.Map(coords,zoom_start=12)\n",
    "folium.Marker(coords,tooltip=address).add_to(mp)\n",
    "mp"
   ]
  },
  {
   "cell_type": "markdown",
   "id": "6d282664",
   "metadata": {},
   "source": [
    "### Generating an Isochrone\n",
    "To generate an isochrone map based on travel time:\n",
    "\n",
    "```\n",
    "from giso import get_isochrone\n",
    "\n",
    "lat = 38.8977  # Latitude of the White House\n",
    "lon = -77.0365  # Longitude of the White House\n",
    "mins = 10  # Time in minutes\n",
    "\n",
    "isochrone_shape = get_isochrone(lat, lon, mins, \"walking\")\n",
    "# This returns a numpy array of coordinates for the isochrone shape\n",
    "```\n"
   ]
  },
  {
   "cell_type": "code",
   "execution_count": 7,
   "id": "fa776639",
   "metadata": {},
   "outputs": [],
   "source": [
    "isochrone_shape = get_isochrone(latitude, longitude, mins = 30,v = \"walking\")"
   ]
  },
  {
   "cell_type": "code",
   "execution_count": 34,
   "id": "b8c258e5",
   "metadata": {},
   "outputs": [
    {
     "data": {
      "text/html": [
       "<div style=\"width:100%;\"><div style=\"position:relative;width:100%;height:0;padding-bottom:60%;\"><span style=\"color:#565656\">Make this Notebook Trusted to load map: File -> Trust Notebook</span><iframe srcdoc=\"&lt;!DOCTYPE html&gt;\n",
       "&lt;html&gt;\n",
       "&lt;head&gt;\n",
       "    \n",
       "    &lt;meta http-equiv=&quot;content-type&quot; content=&quot;text/html; charset=UTF-8&quot; /&gt;\n",
       "    \n",
       "        &lt;script&gt;\n",
       "            L_NO_TOUCH = false;\n",
       "            L_DISABLE_3D = false;\n",
       "        &lt;/script&gt;\n",
       "    \n",
       "    &lt;style&gt;html, body {width: 100%;height: 100%;margin: 0;padding: 0;}&lt;/style&gt;\n",
       "    &lt;style&gt;#map {position:absolute;top:0;bottom:0;right:0;left:0;}&lt;/style&gt;\n",
       "    &lt;script src=&quot;https://cdn.jsdelivr.net/npm/leaflet@1.9.3/dist/leaflet.js&quot;&gt;&lt;/script&gt;\n",
       "    &lt;script src=&quot;https://code.jquery.com/jquery-3.7.1.min.js&quot;&gt;&lt;/script&gt;\n",
       "    &lt;script src=&quot;https://cdn.jsdelivr.net/npm/bootstrap@5.2.2/dist/js/bootstrap.bundle.min.js&quot;&gt;&lt;/script&gt;\n",
       "    &lt;script src=&quot;https://cdnjs.cloudflare.com/ajax/libs/Leaflet.awesome-markers/2.0.2/leaflet.awesome-markers.js&quot;&gt;&lt;/script&gt;\n",
       "    &lt;link rel=&quot;stylesheet&quot; href=&quot;https://cdn.jsdelivr.net/npm/leaflet@1.9.3/dist/leaflet.css&quot;/&gt;\n",
       "    &lt;link rel=&quot;stylesheet&quot; href=&quot;https://cdn.jsdelivr.net/npm/bootstrap@5.2.2/dist/css/bootstrap.min.css&quot;/&gt;\n",
       "    &lt;link rel=&quot;stylesheet&quot; href=&quot;https://netdna.bootstrapcdn.com/bootstrap/3.0.0/css/bootstrap.min.css&quot;/&gt;\n",
       "    &lt;link rel=&quot;stylesheet&quot; href=&quot;https://cdn.jsdelivr.net/npm/@fortawesome/fontawesome-free@6.2.0/css/all.min.css&quot;/&gt;\n",
       "    &lt;link rel=&quot;stylesheet&quot; href=&quot;https://cdnjs.cloudflare.com/ajax/libs/Leaflet.awesome-markers/2.0.2/leaflet.awesome-markers.css&quot;/&gt;\n",
       "    &lt;link rel=&quot;stylesheet&quot; href=&quot;https://cdn.jsdelivr.net/gh/python-visualization/folium/folium/templates/leaflet.awesome.rotate.min.css&quot;/&gt;\n",
       "    \n",
       "            &lt;meta name=&quot;viewport&quot; content=&quot;width=device-width,\n",
       "                initial-scale=1.0, maximum-scale=1.0, user-scalable=no&quot; /&gt;\n",
       "            &lt;style&gt;\n",
       "                #map_61921103a78dc53dec636344157e9a88 {\n",
       "                    position: relative;\n",
       "                    width: 100.0%;\n",
       "                    height: 100.0%;\n",
       "                    left: 0.0%;\n",
       "                    top: 0.0%;\n",
       "                }\n",
       "                .leaflet-container { font-size: 1rem; }\n",
       "            &lt;/style&gt;\n",
       "        \n",
       "&lt;/head&gt;\n",
       "&lt;body&gt;\n",
       "    \n",
       "    \n",
       "            &lt;div class=&quot;folium-map&quot; id=&quot;map_61921103a78dc53dec636344157e9a88&quot; &gt;&lt;/div&gt;\n",
       "        \n",
       "&lt;/body&gt;\n",
       "&lt;script&gt;\n",
       "    \n",
       "    \n",
       "            var map_61921103a78dc53dec636344157e9a88 = L.map(\n",
       "                &quot;map_61921103a78dc53dec636344157e9a88&quot;,\n",
       "                {\n",
       "                    center: [51.500978, -0.1425615],\n",
       "                    crs: L.CRS.EPSG3857,\n",
       "                    zoom: 12,\n",
       "                    zoomControl: true,\n",
       "                    preferCanvas: false,\n",
       "                }\n",
       "            );\n",
       "\n",
       "            \n",
       "\n",
       "        \n",
       "    \n",
       "            var tile_layer_9857b732102eff4a163b18d9e204388b = L.tileLayer(\n",
       "                &quot;https://tile.openstreetmap.org/{z}/{x}/{y}.png&quot;,\n",
       "                {&quot;attribution&quot;: &quot;\\u0026copy; \\u003ca href=\\&quot;https://www.openstreetmap.org/copyright\\&quot;\\u003eOpenStreetMap\\u003c/a\\u003e contributors&quot;, &quot;detectRetina&quot;: false, &quot;maxNativeZoom&quot;: 19, &quot;maxZoom&quot;: 19, &quot;minZoom&quot;: 0, &quot;noWrap&quot;: false, &quot;opacity&quot;: 1, &quot;subdomains&quot;: &quot;abc&quot;, &quot;tms&quot;: false}\n",
       "            );\n",
       "        \n",
       "    \n",
       "            tile_layer_9857b732102eff4a163b18d9e204388b.addTo(map_61921103a78dc53dec636344157e9a88);\n",
       "        \n",
       "    \n",
       "            var marker_54b1e062d0240eb6ca2bbf7b8d678f44 = L.marker(\n",
       "                [51.500978, -0.1425615],\n",
       "                {}\n",
       "            ).addTo(map_61921103a78dc53dec636344157e9a88);\n",
       "        \n",
       "    \n",
       "            marker_54b1e062d0240eb6ca2bbf7b8d678f44.bindTooltip(\n",
       "                `&lt;div&gt;\n",
       "                     bukingham palace, london, uk\n",
       "                 &lt;/div&gt;`,\n",
       "                {&quot;sticky&quot;: true}\n",
       "            );\n",
       "        \n",
       "    \n",
       "            var polygon_47a3572cc216366da1eb5aa259584532 = L.polygon(\n",
       "                [[51.520095, -0.144562], [51.520073, -0.144657], [51.519978, -0.144861], [51.519775, -0.145358], [51.519705, -0.145562], [51.519753, -0.145786], [51.51977, -0.146353], [51.519803, -0.146562], [51.519795, -0.146745], [51.519978, -0.147376], [51.520017, -0.147523], [51.520031, -0.147562], [51.520028, -0.147612], [51.520087, -0.148452], [51.520083, -0.148562], [51.520081, -0.148665], [51.519978, -0.148877], [51.519789, -0.149373], [51.519729, -0.149562], [51.519631, -0.149908], [51.519589, -0.150173], [51.519434, -0.150562], [51.519574, -0.150966], [51.519683, -0.151266], [51.519788, -0.151562], [51.519562, -0.151978], [51.519505, -0.152089], [51.519204, -0.152562], [51.519094, -0.152677], [51.518978, -0.152769], [51.518639, -0.153222], [51.518453, -0.153562], [51.518296, -0.15388], [51.517978, -0.154262], [51.517795, -0.154379], [51.517349, -0.154562], [51.51707, -0.154653], [51.516978, -0.154687], [51.516812, -0.154727], [51.516287, -0.15487], [51.515978, -0.15494], [51.515639, -0.155223], [51.515331, -0.155562], [51.5154, -0.155983], [51.515416, -0.156123], [51.515497, -0.156562], [51.515311, -0.156894], [51.514978, -0.157242], [51.514849, -0.157432], [51.514778, -0.157562], [51.514821, -0.157719], [51.514949, -0.158532], [51.514955, -0.158562], [51.514952, -0.158587], [51.514953, -0.159537], [51.51495, -0.159562], [51.514845, -0.159695], [51.514523, -0.160106], [51.514147, -0.160562], [51.5141, -0.160684], [51.513978, -0.160942], [51.513849, -0.161432], [51.513832, -0.161562], [51.513784, -0.161756], [51.513739, -0.162323], [51.513644, -0.162562], [51.513533, -0.163007], [51.513525, -0.163109], [51.513342, -0.163562], [51.513156, -0.16374], [51.512978, -0.163956], [51.512667, -0.16425], [51.512503, -0.164562], [51.512416, -0.164999], [51.512434, -0.165106], [51.512386, -0.165562], [51.512307, -0.165891], [51.511978, -0.166549], [51.51197, -0.166554], [51.511962, -0.166562], [51.51168, -0.16686], [51.511484, -0.167067], [51.511363, -0.167177], [51.510978, -0.167527], [51.510966, -0.167549], [51.510961, -0.167562], [51.510951, -0.167588], [51.510747, -0.16833], [51.510622, -0.168562], [51.510401, -0.168984], [51.509978, -0.169191], [51.509602, -0.169186], [51.50937, -0.169169], [51.508978, -0.169164], [51.508731, -0.169315], [51.508457, -0.169562], [51.508276, -0.169859], [51.507978, -0.170389], [51.507909, -0.170492], [51.507861, -0.170562], [51.50735, -0.170934], [51.507198, -0.171341], [51.507075, -0.171562], [51.507059, -0.171643], [51.506978, -0.171847], [51.506575, -0.172159], [51.506324, -0.172562], [51.506162, -0.172745], [51.505978, -0.172878], [51.505565, -0.172974], [51.505438, -0.173022], [51.504978, -0.173096], [51.504606, -0.17319], [51.50409, -0.173449], [51.503978, -0.173492], [51.503613, -0.172926], [51.503625, -0.172562], [51.503362, -0.172178], [51.502978, -0.171936], [51.502654, -0.172238], [51.50246, -0.172562], [51.502482, -0.173057], [51.502491, -0.173074], [51.502548, -0.173562], [51.502321, -0.173905], [51.501978, -0.17416], [51.501786, -0.173753], [51.501788, -0.173562], [51.50174, -0.173323], [51.501641, -0.172898], [51.501577, -0.172562], [51.501417, -0.172122], [51.50132, -0.171904], [51.50118, -0.171562], [51.501096, -0.171444], [51.500978, -0.171382], [51.500755, -0.171338], [51.500144, -0.171562], [51.500043, -0.171626], [51.499978, -0.171701], [51.499921, -0.171618], [51.499896, -0.171562], [51.499819, -0.171402], [51.499609, -0.17093], [51.499398, -0.170562], [51.499239, -0.170301], [51.498978, -0.170134], [51.498617, -0.170201], [51.498281, -0.170259], [51.497978, -0.170313], [51.497808, -0.170391], [51.497551, -0.170562], [51.497185, -0.170768], [51.496978, -0.170843], [51.496661, -0.170879], [51.496252, -0.170836], [51.495978, -0.170886], [51.495852, -0.170687], [51.495792, -0.170562], [51.495545, -0.170129], [51.495498, -0.170042], [51.495195, -0.169562], [51.495243, -0.169297], [51.495274, -0.168858], [51.495344, -0.168562], [51.495215, -0.168324], [51.494978, -0.168109], [51.494663, -0.167876], [51.494123, -0.167707], [51.493978, -0.167642], [51.493915, -0.167624], [51.493775, -0.167562], [51.493558, -0.167141], [51.493978, -0.167336], [51.494207, -0.16679], [51.494169, -0.166562], [51.49412, -0.16642], [51.493978, -0.166226], [51.493798, -0.166381], [51.493598, -0.166562], [51.493462, -0.167045], [51.492978, -0.167149], [51.49254, -0.167], [51.492383, -0.166967], [51.491978, -0.166853], [51.491544, -0.167128], [51.491174, -0.167562], [51.491079, -0.167662], [51.490978, -0.167748], [51.490816, -0.167723], [51.490236, -0.167562], [51.490065, -0.167475], [51.489978, -0.167416], [51.489658, -0.166882], [51.489164, -0.166562], [51.489051, -0.166489], [51.488978, -0.166428], [51.488651, -0.166234], [51.488386, -0.166153], [51.488305, -0.165889], [51.488112, -0.165562], [51.48805, -0.16549], [51.488023, -0.164606], [51.488008, -0.164562], [51.48801, -0.16453], [51.488126, -0.163709], [51.488132, -0.163562], [51.488122, -0.163418], [51.487978, -0.162879], [51.487863, -0.162677], [51.487762, -0.162562], [51.487391, -0.162148], [51.486978, -0.162006], [51.486489, -0.162072], [51.486462, -0.162077], [51.485978, -0.162151], [51.48568, -0.161859], [51.485571, -0.161562], [51.485575, -0.161158], [51.485564, -0.160976], [51.485567, -0.160562], [51.485636, -0.160219], [51.485703, -0.159837], [51.485756, -0.159562], [51.485825, -0.159409], [51.485915, -0.158624], [51.485933, -0.158562], [51.485937, -0.15852], [51.485978, -0.158469], [51.486272, -0.157856], [51.486332, -0.157562], [51.486406, -0.157133], [51.486434, -0.157017], [51.486501, -0.156562], [51.48659, -0.156174], [51.486978, -0.155953], [51.487186, -0.15577], [51.4873, -0.155562], [51.487595, -0.155179], [51.487978, -0.155144], [51.488248, -0.154831], [51.488312, -0.154562], [51.488197, -0.154343], [51.487978, -0.154211], [51.487487, -0.154071], [51.487444, -0.154096], [51.48746, -0.154044], [51.487196, -0.153562], [51.487135, -0.153405], [51.486978, -0.153323], [51.486699, -0.153282], [51.486273, -0.153562], [51.486298, -0.153882], [51.486165, -0.154375], [51.486197, -0.154562], [51.486118, -0.154701], [51.485978, -0.154808], [51.48555, -0.155134], [51.48508, -0.155562], [51.485023, -0.155606], [51.484978, -0.155654], [51.48492, -0.15562], [51.484893, -0.155562], [51.484832, -0.155416], [51.48457, -0.15497], [51.484477, -0.154562], [51.484402, -0.154137], [51.484402, -0.153986], [51.484347, -0.153562], [51.484316, -0.153224], [51.484316, -0.152899], [51.484289, -0.152562], [51.484254, -0.152285], [51.484254, -0.151838], [51.484227, -0.151562], [51.484208, -0.151331], [51.484208, -0.150792], [51.484192, -0.150562], [51.484136, -0.150404], [51.483978, -0.150275], [51.483651, -0.150234], [51.483219, -0.15032], [51.482978, -0.150256], [51.48259, -0.14995], [51.482175, -0.149562], [51.482387, -0.149152], [51.482432, -0.149015], [51.482942, -0.148597], [51.482978, -0.148566], [51.48298, -0.148564], [51.482989, -0.148562], [51.483648, -0.148232], [51.483978, -0.148097], [51.484202, -0.148337], [51.484274, -0.148562], [51.484766, -0.148774], [51.484978, -0.148783], [51.485096, -0.148679], [51.485139, -0.148562], [51.485166, -0.148374], [51.485166, -0.147749], [51.485203, -0.147562], [51.485202, -0.147337], [51.485202, -0.146786], [51.485201, -0.146562], [51.485169, -0.146371], [51.485169, -0.145752], [51.485144, -0.145562], [51.485118, -0.145421], [51.484978, -0.145263], [51.484669, -0.144871], [51.484623, -0.144562], [51.484515, -0.144099], [51.484518, -0.144021], [51.484294, -0.143562], [51.484319, -0.14322], [51.484319, -0.142903], [51.484349, -0.142561], [51.484348, -0.142191], [51.484348, -0.141932], [51.484347, -0.141562], [51.484398, -0.141142], [51.484398, -0.140981], [51.484465, -0.140562], [51.48437, -0.14017], [51.48437, -0.139953], [51.484306, -0.139562], [51.484275, -0.139265], [51.484275, -0.138858], [51.484249, -0.138562], [51.484222, -0.138317], [51.484222, -0.137806], [51.4842, -0.137562], [51.484212, -0.137328], [51.484212, -0.136795], [51.484224, -0.136562], [51.484248, -0.136292], [51.484248, -0.135831], [51.484277, -0.135562], [51.484254, -0.135285], [51.484254, -0.134838], [51.484235, -0.134562], [51.484247, -0.134292], [51.484247, -0.133831], [51.484261, -0.133562], [51.4845, -0.133083], [51.484978, -0.132844], [51.485135, -0.132718], [51.485203, -0.132562], [51.485241, -0.132298], [51.485241, -0.131825], [51.485294, -0.131562], [51.48569, -0.131273], [51.485816, -0.130724], [51.485894, -0.130562], [51.485897, -0.13048], [51.485978, -0.130129], [51.486199, -0.129783], [51.486332, -0.129562], [51.486548, -0.129131], [51.486978, -0.128916], [51.487121, -0.128705], [51.487168, -0.128562], [51.487178, -0.128361], [51.487178, -0.127762], [51.48719, -0.127561], [51.487147, -0.127392], [51.486978, -0.127263], [51.486601, -0.126939], [51.486008, -0.126562], [51.486013, -0.126527], [51.486013, -0.125596], [51.486018, -0.125562], [51.486044, -0.125495], [51.486143, -0.124727], [51.486301, -0.124562], [51.486709, -0.124292], [51.486978, -0.124212], [51.487108, -0.124431], [51.487122, -0.124562], [51.487246, -0.12483], [51.487379, -0.12516], [51.487613, -0.125562], [51.487774, -0.125765], [51.487978, -0.12583], [51.488466, -0.126074], [51.48871, -0.126562], [51.488839, -0.1267], [51.488978, -0.126729], [51.489092, -0.126676], [51.489161, -0.126562], [51.489344, -0.126195], [51.489344, -0.125928], [51.489612, -0.125928], [51.489978, -0.125745], [51.490102, -0.125686], [51.49016, -0.125562], [51.490341, -0.125198], [51.490341, -0.124925], [51.490615, -0.124925], [51.490978, -0.124743], [51.491088, -0.124671], [51.491145, -0.124562], [51.491313, -0.124227], [51.491313, -0.123896], [51.491643, -0.123896], [51.491978, -0.123729], [51.49213, -0.123714], [51.492826, -0.123714], [51.492978, -0.123702], [51.493101, -0.123685], [51.493855, -0.123685], [51.493978, -0.123671], [51.494057, -0.12364], [51.494113, -0.123562], [51.494077, -0.123463], [51.493978, -0.123398], [51.493651, -0.123235], [51.493305, -0.123235], [51.493305, -0.122888], [51.493141, -0.122562], [51.493103, -0.122436], [51.492978, -0.122311], [51.49276, -0.122343], [51.492539, -0.122562], [51.492352, -0.122935], [51.491978, -0.123122], [51.49148, -0.12306], [51.491475, -0.123058], [51.490978, -0.122975], [51.49073, -0.122809], [51.490522, -0.122562], [51.490681, -0.122264], [51.490706, -0.121834], [51.490782, -0.121562], [51.490826, -0.121409], [51.490978, -0.121025], [51.49118, -0.120764], [51.491321, -0.120562], [51.491521, -0.120105], [51.49164, -0.119899], [51.49182, -0.119562], [51.491877, -0.11946], [51.491978, -0.119369], [51.492452, -0.119087], [51.492486, -0.11907], [51.492978, -0.118648], [51.493004, -0.118588], [51.493038, -0.118562], [51.493115, -0.118425], [51.493347, -0.11793], [51.493662, -0.117562], [51.493813, -0.117397], [51.493978, -0.117296], [51.494364, -0.116948], [51.494775, -0.116561], [51.494872, -0.116456], [51.494978, -0.116301], [51.49521, -0.115793], [51.495247, -0.115562], [51.4953, -0.115239], [51.495379, -0.114962], [51.495428, -0.114562], [51.495603, -0.114187], [51.495847, -0.113693], [51.49591, -0.113562], [51.49593, -0.113514], [51.495978, -0.113428], [51.496324, -0.112907], [51.496716, -0.112561], [51.496678, -0.112262], [51.496617, -0.111922], [51.496577, -0.111562], [51.496727, -0.11131], [51.496978, -0.110997], [51.497184, -0.110767], [51.497297, -0.110562], [51.49759, -0.110173], [51.497838, -0.109701], [51.497919, -0.109562], [51.49794, -0.109523], [51.497978, -0.109464], [51.49805, -0.10949], [51.498318, -0.109562], [51.498828, -0.109711], [51.498978, -0.109723], [51.499113, -0.109696], [51.499607, -0.109562], [51.499898, -0.109482], [51.499978, -0.109455], [51.500057, -0.109483], [51.500397, -0.109562], [51.500857, -0.109682], [51.500978, -0.109718], [51.501093, -0.109676], [51.501709, -0.109562], [51.501943, -0.109527], [51.501978, -0.109526], [51.502007, -0.109533], [51.502048, -0.109562], [51.502622, -0.109917], [51.502978, -0.110127], [51.503196, -0.110344], [51.503354, -0.110562], [51.503482, -0.111057], [51.503496, -0.111079], [51.503725, -0.111562], [51.503778, -0.111762], [51.503978, -0.111741], [51.504352, -0.111935], [51.504512, -0.112027], [51.504978, -0.112218], [51.5051, -0.11244], [51.505079, -0.112561], [51.505203, -0.112786], [51.505337, -0.113202], [51.505938, -0.113562], [51.505949, -0.113591], [51.505978, -0.113626], [51.50623, -0.114309], [51.506453, -0.114562], [51.506601, -0.114939], [51.506725, -0.115308], [51.506816, -0.115562], [51.506849, -0.11569], [51.506978, -0.11589], [51.507269, -0.115853], [51.50769, -0.11585], [51.507978, -0.11582], [51.508271, -0.115854], [51.508575, -0.115964], [51.508978, -0.115991], [51.50921, -0.115794], [51.509398, -0.115562], [51.509591, -0.115175], [51.509978, -0.114981], [51.51025, -0.114833], [51.510462, -0.114562], [51.51055, -0.114134], [51.510708, -0.113832], [51.510803, -0.113562], [51.510852, -0.113435], [51.510978, -0.113335], [51.511078, -0.113462], [51.51118, -0.113562], [51.511207, -0.113791], [51.511383, -0.114157], [51.511403, -0.114562], [51.511637, -0.114902], [51.511978, -0.115113], [51.512402, -0.114986], [51.512713, -0.114562], [51.51279, -0.114374], [51.512978, -0.114327], [51.513082, -0.114458], [51.513101, -0.114562], [51.51314, -0.114723], [51.513188, -0.115351], [51.513267, -0.115562], [51.513474, -0.116057], [51.513475, -0.116064], [51.513887, -0.116561], [51.513914, -0.116626], [51.513978, -0.116714], [51.514304, -0.117235], [51.514389, -0.117562], [51.514417, -0.118001], [51.514408, -0.118131], [51.514444, -0.118562], [51.514356, -0.118939], [51.514403, -0.119137], [51.514359, -0.119562], [51.51445, -0.120034], [51.514459, -0.12008], [51.514553, -0.120562], [51.5146, -0.12094], [51.514866, -0.121449], [51.514895, -0.121562], [51.514898, -0.121641], [51.514913, -0.122496], [51.514915, -0.122562], [51.514932, -0.122607], [51.514978, -0.122747], [51.515174, -0.123366], [51.515288, -0.123562], [51.515574, -0.123966], [51.515978, -0.124364], [51.516113, -0.124426], [51.516194, -0.124562], [51.516601, -0.124939], [51.516978, -0.125351], [51.517067, -0.125473], [51.51711, -0.125562], [51.517167, -0.125751], [51.517319, -0.12622], [51.517417, -0.126562], [51.517383, -0.126966], [51.517362, -0.127177], [51.517329, -0.127561], [51.517273, -0.127856], [51.517154, -0.128386], [51.517118, -0.128562], [51.517156, -0.128739], [51.517291, -0.129249], [51.517349, -0.129562], [51.5175, -0.13004], [51.517512, -0.130095], [51.517639, -0.130562], [51.517477, -0.131061], [51.516978, -0.131557], [51.516976, -0.131559], [51.516975, -0.131562], [51.516975, -0.131564], [51.516978, -0.131588], [51.517143, -0.132397], [51.517113, -0.132562], [51.517124, -0.132707], [51.517077, -0.133462], [51.517087, -0.133562], [51.517112, -0.133695], [51.517318, -0.134221], [51.517355, -0.134562], [51.517438, -0.135022], [51.517429, -0.13511], [51.517594, -0.135562], [51.51774, -0.135799], [51.517978, -0.136415], [51.518009, -0.136531], [51.518017, -0.136562], [51.518037, -0.136621], [51.518216, -0.137324], [51.518326, -0.137562], [51.518426, -0.13801], [51.518422, -0.138117], [51.518622, -0.138562], [51.518762, -0.138778], [51.518978, -0.139392], [51.519006, -0.139533], [51.519017, -0.139562], [51.519052, -0.139635], [51.519332, -0.140207], [51.519488, -0.140562], [51.519635, -0.140904], [51.519738, -0.141322], [51.519818, -0.141562], [51.519818, -0.141722], [51.519969, -0.142552], [51.519969, -0.142562], [51.519965, -0.142575], [51.519645, -0.143228], [51.519591, -0.143562], [51.519662, -0.143878], [51.519978, -0.144411], [51.520049, -0.14449], [51.520095, -0.144562]],\n",
       "                {&quot;bubblingMouseEvents&quot;: true, &quot;color&quot;: &quot;white&quot;, &quot;dashArray&quot;: null, &quot;dashOffset&quot;: null, &quot;fill&quot;: true, &quot;fillColor&quot;: &quot;rgb(0,50,0)&quot;, &quot;fillOpacity&quot;: 0.5, &quot;fillRule&quot;: &quot;evenodd&quot;, &quot;lineCap&quot;: &quot;round&quot;, &quot;lineJoin&quot;: &quot;round&quot;, &quot;noClip&quot;: false, &quot;opacity&quot;: 1.0, &quot;smoothFactor&quot;: 1.0, &quot;stroke&quot;: true, &quot;weight&quot;: 1}\n",
       "            ).addTo(map_61921103a78dc53dec636344157e9a88);\n",
       "        \n",
       "    \n",
       "            polygon_47a3572cc216366da1eb5aa259584532.bindTooltip(\n",
       "                `&lt;div&gt;\n",
       "                     10 min walk from bukingham palace, london, uk\n",
       "                 &lt;/div&gt;`,\n",
       "                {&quot;sticky&quot;: true}\n",
       "            );\n",
       "        \n",
       "&lt;/script&gt;\n",
       "&lt;/html&gt;\" style=\"position:absolute;width:100%;height:100%;left:0;top:0;border:none !important;\" allowfullscreen webkitallowfullscreen mozallowfullscreen></iframe></div></div>"
      ],
      "text/plain": [
       "<folium.folium.Map at 0x1c319a92b60>"
      ]
     },
     "execution_count": 34,
     "metadata": {},
     "output_type": "execute_result"
    }
   ],
   "source": [
    "folium.Polygon(isochrone_shape,\n",
    "               tooltip=\"10 min walk from \" + address, \n",
    "               fill=True,\n",
    "               fill_opacity = .5,\n",
    "               fill_color = \"rgb(0,50,0)\",\n",
    "               weight = 1,\n",
    "               color = \"white\").add_to(mp)\n",
    "mp"
   ]
  },
  {
   "cell_type": "markdown",
   "id": "3fc3e509",
   "metadata": {},
   "source": [
    "## Additional Information\n",
    "\n",
    "### Error Handling\n",
    "The functions in this package are designed to raise exceptions in case of errors, such as invalid API tokens, network issues, or invalid parameters. It's recommended to handle these exceptions gracefully in your application to ensure a smooth user experience.\n",
    "\n",
    "Here's an example of handling exceptions when geocoding an address:\n",
    "\n",
    "```\n",
    "try:\n",
    "    latitude, longitude = get_coordinates(\"An invalid address\")\n",
    "except Exception as e:\n",
    "    print(f\"An error occurred: {e}\")\n",
    "```\n",
    "\n",
    "### API\n",
    "\n",
    "For more details on the Mapbox API and its capabilities, visit the [Mapbox documentation](https://docs.mapbox.com/)."
   ]
  }
 ],
 "metadata": {
  "kernelspec": {
   "display_name": "Python 3 (ipykernel)",
   "language": "python",
   "name": "python3"
  },
  "language_info": {
   "codemirror_mode": {
    "name": "ipython",
    "version": 3
   },
   "file_extension": ".py",
   "mimetype": "text/x-python",
   "name": "python",
   "nbconvert_exporter": "python",
   "pygments_lexer": "ipython3",
   "version": "3.10.9"
  }
 },
 "nbformat": 4,
 "nbformat_minor": 5
}
